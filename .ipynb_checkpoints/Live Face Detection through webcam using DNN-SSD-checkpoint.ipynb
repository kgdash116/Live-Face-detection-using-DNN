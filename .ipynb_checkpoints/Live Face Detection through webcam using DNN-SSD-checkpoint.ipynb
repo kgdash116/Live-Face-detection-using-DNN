{
 "cells": [
  {
   "cell_type": "code",
   "execution_count": 1,
   "id": "a74c68ae",
   "metadata": {},
   "outputs": [],
   "source": [
    "import numpy as np\n",
    "import cv2"
   ]
  },
  {
   "cell_type": "code",
   "execution_count": 2,
   "id": "09bbedb5",
   "metadata": {},
   "outputs": [],
   "source": [
    "#firset we define the model using the caffe model file and the prototxt file\n",
    "face_detetction_model=cv2.dnn.readNetFromCaffe('./models/deploy.prototxt.txt','./models/res10_300x300_ssd_iter_140000_fp16.caffemodel')"
   ]
  },
  {
   "cell_type": "code",
   "execution_count": 10,
   "id": "d71fdb98",
   "metadata": {},
   "outputs": [],
   "source": [
    "def face_detection(img):\n",
    "    #first we get the blob information\n",
    "    blob=cv2.dnn.blobFromImage(img,1,(300,300),(148,173,123),swapRB=True)\n",
    "    #then we pass the blob as input to the detector\n",
    "    face_detetction_model.setInput(blob)\n",
    "    #next we get the detections\n",
    "    detections=face_detetction_model.forward()\n",
    "    h,w=img.shape[:2]\n",
    "    for i in range(detections.shape[2]):\n",
    "        confidence=detections[0,0,i,2]\n",
    "        if confidence>0.5:\n",
    "            box=detections[0,0,i,3:7]*np.array([w,h,w,h])\n",
    "            box=box.astype(dtype=int)\n",
    "            point1=(box[0],box[1])\n",
    "            point2=(box[2],box[3])\n",
    "            text=\"Confidence {:.0f}\".format(confidence*100)\n",
    "            cv2.rectangle(img,point1,point2,(255,0,0),1)\n",
    "            cv2.putText(img,text,point1,cv2.FONT_HERSHEY_PLAIN,1,(255,255,255),1)\n",
    "    return img"
   ]
  },
  {
   "cell_type": "code",
   "execution_count": 11,
   "id": "98bcf8cd",
   "metadata": {},
   "outputs": [],
   "source": [
    "#capturing video and passing the result to the function above\n",
    "cap=cv2.VideoCapture(0)\n",
    "\n",
    "\n",
    "while True:\n",
    "    ret,frame=cap.read()\n",
    "    if ret==False:\n",
    "        break\n",
    "    image_detection=face_detection(frame)\n",
    "    cv2.imshow(\"Face Detection\",image_detection)\n",
    "    if cv2.waitKey(1)==ord('q'):\n",
    "        break\n",
    "    \n",
    "cap.release()\n",
    "cv2.destroyAllWindows()\n",
    "        "
   ]
  },
  {
   "cell_type": "code",
   "execution_count": null,
   "id": "0fa1dbbd",
   "metadata": {},
   "outputs": [],
   "source": []
  }
 ],
 "metadata": {
  "kernelspec": {
   "display_name": "Python 3 (ipykernel)",
   "language": "python",
   "name": "python3"
  },
  "language_info": {
   "codemirror_mode": {
    "name": "ipython",
    "version": 3
   },
   "file_extension": ".py",
   "mimetype": "text/x-python",
   "name": "python",
   "nbconvert_exporter": "python",
   "pygments_lexer": "ipython3",
   "version": "3.9.12"
  }
 },
 "nbformat": 4,
 "nbformat_minor": 5
}
